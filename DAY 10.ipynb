{
 "cells": [
  {
   "cell_type": "code",
   "execution_count": 4,
   "metadata": {},
   "outputs": [
    {
     "name": "stdout",
     "output_type": "stream",
     "text": [
      "1597485020.0\n"
     ]
    }
   ],
   "source": [
    "import time\n",
    "utc_time=\"15-08-2020 15:20:20\"\n",
    "def humanToEpoch(utc_time):\n",
    "    epochconvert=time.strptime(utc_time,\"%d-%m-%Y %H:%M:%S\")\n",
    "    epoch_Time=time.mktime(epochconvert)\n",
    "    return epoch_Time\n",
    "print(humanToEpoch(utc_time))"
   ]
  },
  {
   "cell_type": "code",
   "execution_count": null,
   "metadata": {},
   "outputs": [],
   "source": []
  },
  {
   "cell_type": "code",
   "execution_count": null,
   "metadata": {},
   "outputs": [],
   "source": []
  }
 ],
 "metadata": {
  "kernelspec": {
   "display_name": "Python 3",
   "language": "python",
   "name": "python3"
  },
  "language_info": {
   "codemirror_mode": {
    "name": "ipython",
    "version": 3
   },
   "file_extension": ".py",
   "mimetype": "text/x-python",
   "name": "python",
   "nbconvert_exporter": "python",
   "pygments_lexer": "ipython3",
   "version": "3.8.3"
  }
 },
 "nbformat": 4,
 "nbformat_minor": 4
}
