{
 "cells": [
  {
   "cell_type": "markdown",
   "metadata": {},
   "source": [
    "# QUESTION 1"
   ]
  },
  {
   "cell_type": "code",
   "execution_count": 18,
   "metadata": {},
   "outputs": [],
   "source": [
    "sos={\"Nick Fury\" : [\"Tony Stark\", \"Maria Hill\", \"Norman Osborn\"],\n",
    "     \"Hulk\" : [\"Tony Stark\", \"HawkEye\", \"Rogers\"],\n",
    "     \"Rogers\" : [\"Thor\"],\n",
    "     \"Tony Stark\": [\"Pepper Potts\", \"Nick Fury\"],\n",
    "     \"Agent 13\" : [\"Agent-X\", \"Nick Fury\", \"Hitler\"],\n",
    "     \"Thor\": [\"HawkEye\", \"BlackWidow\"],\n",
    "     \"BlackWidow\":[\"HawkEye\"],\n",
    "     \"Maria Hill\" : [\"Hulk\", \"Rogers\", \"Nick Fury\"],\n",
    "     \"Agent-X\" : [\"Agent 13\", \"Rogers\"],\n",
    "     \"Norman Osborn\": [\"Tony Stark\", \"Thor\"]}\n"
   ]
  },
  {
   "cell_type": "code",
   "execution_count": 19,
   "metadata": {},
   "outputs": [],
   "source": [
    "sos_sender=sos.keys()"
   ]
  },
  {
   "cell_type": "code",
   "execution_count": 20,
   "metadata": {},
   "outputs": [],
   "source": [
    "agents=[]\n",
    "\n",
    "fraudster=[]"
   ]
  },
  {
   "cell_type": "code",
   "execution_count": 21,
   "metadata": {},
   "outputs": [
    {
     "name": "stdout",
     "output_type": "stream",
     "text": [
      "Agent 13\n",
      "Agent-X\n",
      "Hitler\n"
     ]
    }
   ],
   "source": [
    "for each in sos:\n",
    "    for reciever in sos[each]:\n",
    "        if(reciever in sos_sender):\n",
    "            for member in sos[reciever]:\n",
    "                agents.append(member)\n",
    "        else:\n",
    "            agents.append(reciever)\n",
    "for each in sos.get(\"Nick Fury\"):\n",
    "    for recieving_signal in sos[each]:\n",
    "        fraudster.append(recieving_signal)\n",
    "        if(sos.get(recieving_signal)!=None):\n",
    "            for everyone in sos[recieving_signal]:\n",
    "                fraudster.append(everyone)\n",
    "hydra_members=list(set(agents)^set(fraudster))\n",
    "hydra_members.sort()\n",
    "for each_hydra_member in hydra_members:\n",
    "    print(each_hydra_member)"
   ]
  },
  {
   "cell_type": "code",
   "execution_count": null,
   "metadata": {},
   "outputs": [],
   "source": []
  }
 ],
 "metadata": {
  "kernelspec": {
   "display_name": "Python 3",
   "language": "python",
   "name": "python3"
  },
  "language_info": {
   "codemirror_mode": {
    "name": "ipython",
    "version": 3
   },
   "file_extension": ".py",
   "mimetype": "text/x-python",
   "name": "python",
   "nbconvert_exporter": "python",
   "pygments_lexer": "ipython3",
   "version": "3.8.3"
  }
 },
 "nbformat": 4,
 "nbformat_minor": 4
}
